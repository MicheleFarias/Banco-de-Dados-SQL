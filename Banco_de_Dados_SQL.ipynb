{
  "nbformat": 4,
  "nbformat_minor": 0,
  "metadata": {
    "colab": {
      "provenance": []
    },
    "kernelspec": {
      "name": "python3",
      "display_name": "Python 3"
    },
    "language_info": {
      "name": "python"
    }
  },
  "cells": [
    {
      "cell_type": "code",
      "execution_count": 1,
      "metadata": {
        "id": "EHAasB7HZoKE"
      },
      "outputs": [],
      "source": [
        "# Importando o SQLITE3\n",
        "import sqlite3"
      ]
    },
    {
      "cell_type": "code",
      "source": [
        "# Conectando ao banco de dados (ou criando-o se não existir)\n",
        "conexao = sqlite3.connect('banco.db')"
      ],
      "metadata": {
        "id": "9IHcDLNdZsFV"
      },
      "execution_count": 2,
      "outputs": []
    },
    {
      "cell_type": "code",
      "source": [
        "#Criando um cursor para executar comandos SQL\n",
        "cursor = conexao.cursor()"
      ],
      "metadata": {
        "id": "pYL0mageZuMi"
      },
      "execution_count": 3,
      "outputs": []
    },
    {
      "cell_type": "code",
      "source": [
        "#Criando uma tabela chamada \"alunos\" com os seguintes campos: id(inteiro), nome (texto), idade (inteiro) e curso (texto).\n",
        "cursor.execute('CREATE TABLE alunos(id INT, nome VARCHAR(100), idade INT, curso VARCHAR(100));')"
      ],
      "metadata": {
        "colab": {
          "base_uri": "https://localhost:8080/"
        },
        "id": "FNA0HZs1ZyPi",
        "outputId": "a81d4faf-18fa-40d2-86d2-9970f26d7186"
      },
      "execution_count": 4,
      "outputs": [
        {
          "output_type": "execute_result",
          "data": {
            "text/plain": [
              "<sqlite3.Cursor at 0x78538410c140>"
            ]
          },
          "metadata": {},
          "execution_count": 4
        }
      ]
    },
    {
      "cell_type": "code",
      "source": [
        "# Verificando se a tabela alunos foi criada\n",
        "cursor.execute(\"SELECT name FROM sqlite_master WHERE type='table' AND name='alunos';\")\n",
        "result = cursor.fetchone()\n",
        "\n",
        "if result:\n",
        "    print(\"Tabela 'alunos' criada com sucesso!\")\n",
        "else:\n",
        "    print(\"Tabela 'alunos' não encontrada.\")"
      ],
      "metadata": {
        "colab": {
          "base_uri": "https://localhost:8080/"
        },
        "id": "WdcZi8eKZ4yP",
        "outputId": "1adba050-64b0-48cd-dcbb-78883bbbf188"
      },
      "execution_count": 5,
      "outputs": [
        {
          "output_type": "stream",
          "name": "stdout",
          "text": [
            "Tabela 'alunos' criada com sucesso!\n"
          ]
        }
      ]
    },
    {
      "cell_type": "code",
      "source": [
        "# Inserir 5 registros na tabela \"alunos\"\n",
        "cursor.execute('INSERT INTO alunos(id,nome,idade,curso) VALUES(1,\"Michele Farias\" , 35 , \"Data Science\")')\n",
        "cursor.execute('INSERT INTO alunos(id,nome,idade,curso) VALUES(2,\"Renilda Anjos\" , 50 , \"Administração\")')\n",
        "cursor.execute('INSERT INTO alunos(id,nome,idade,curso) VALUES(3,\"Kleice Sá\" , 43 , \"artesã\")')\n",
        "cursor.execute('INSERT INTO alunos(id,nome,idade,curso) VALUES(4,\"Luis Marcos\" , 34 , \"Motorista\")')\n",
        "cursor.execute('INSERT INTO alunos(id,nome,idade,curso) VALUES(5,\"Ravi Daniel\" , 20 , \"Enfermeiro\")')"
      ],
      "metadata": {
        "colab": {
          "base_uri": "https://localhost:8080/"
        },
        "id": "o5b1bVmqaY-s",
        "outputId": "d702bfa1-9cc1-48c7-ccab-e4b9ebde353f"
      },
      "execution_count": 6,
      "outputs": [
        {
          "output_type": "execute_result",
          "data": {
            "text/plain": [
              "<sqlite3.Cursor at 0x78538410c140>"
            ]
          },
          "metadata": {},
          "execution_count": 6
        }
      ]
    },
    {
      "cell_type": "code",
      "source": [
        "# Salvando as alterações\n",
        "conexao.commit()"
      ],
      "metadata": {
        "id": "rhtuaa7bbvl2"
      },
      "execution_count": 7,
      "outputs": []
    },
    {
      "cell_type": "markdown",
      "source": [
        "**Escrevendo consultas SQL para realizar as seguintes tarefas:**"
      ],
      "metadata": {
        "id": "P7RZ1raobFf8"
      }
    },
    {
      "cell_type": "code",
      "source": [
        "# a) Selecionando todos os registros da tabela \"alunos\"\n",
        "cursor.execute('SELECT * FROM alunos')\n",
        "result = cursor.fetchall()\n",
        "print(result)\n"
      ],
      "metadata": {
        "colab": {
          "base_uri": "https://localhost:8080/"
        },
        "id": "XKw5CUJUbJxh",
        "outputId": "b62b7d4e-3015-417a-c1f4-7b054d342208"
      },
      "execution_count": 8,
      "outputs": [
        {
          "output_type": "stream",
          "name": "stdout",
          "text": [
            "[(1, 'Michele Farias', 35, 'Data Science'), (2, 'Renilda Anjos', 50, 'Administração'), (3, 'Kleice Sá', 43, 'artesã'), (4, 'Luis Marcos', 34, 'Motorista'), (5, 'Ravi Daniel', 20, 'Enfermeiro')]\n"
          ]
        }
      ]
    },
    {
      "cell_type": "code",
      "source": [
        "# b) Selecionar o nome e a idade dos alunos com mais de 20 anos\n",
        "cursor.execute('SELECT nome, idade FROM alunos WHERE idade > 20')\n",
        "registros = cursor.fetchall()\n",
        "for registro in registros:\n",
        "    print(f'Nome: {registro[0]}, Idade: {registro[1]}')"
      ],
      "metadata": {
        "colab": {
          "base_uri": "https://localhost:8080/"
        },
        "id": "3TClSV9OdZB3",
        "outputId": "6382d2a4-cf64-42e5-a5fc-b2e65848fee7"
      },
      "execution_count": 9,
      "outputs": [
        {
          "output_type": "stream",
          "name": "stdout",
          "text": [
            "Nome: Michele Farias, Idade: 35\n",
            "Nome: Renilda Anjos, Idade: 50\n",
            "Nome: Kleice Sá, Idade: 43\n",
            "Nome: Luis Marcos, Idade: 34\n"
          ]
        }
      ]
    },
    {
      "cell_type": "code",
      "source": [
        "# c) Selecionar os alunos do curso de \"Data Science\" em ordem alfabética\n",
        "\n",
        "cursor.execute('SELECT nome FROM alunos WHERE curso = \"Data Science\" ORDER BY nome ASC')\n",
        "registros = cursor.fetchall()\n",
        "for registro in registros:\n",
        "    print(f'Nome: {registro[0]}')\n"
      ],
      "metadata": {
        "colab": {
          "base_uri": "https://localhost:8080/"
        },
        "id": "EY1sE3XifIZm",
        "outputId": "59fe9334-27a6-4af8-906c-6a4880a6468b"
      },
      "execution_count": 10,
      "outputs": [
        {
          "output_type": "stream",
          "name": "stdout",
          "text": [
            "Nome: Michele Farias\n"
          ]
        }
      ]
    },
    {
      "cell_type": "code",
      "source": [
        "# Contar o número total de alunos na tabela\n",
        "# cursor.fetchone()[0] >>> Retorna o resultado da consulta como uma tupla / O 0 acessa o primeiro (e único) valor da tupla, que é o total de alunos.\n",
        "cursor.execute('SELECT COUNT(*) FROM alunos')\n",
        "total_alunos = cursor.fetchone()[0]\n",
        "print(f'Total de alunos: {total_alunos}')\n"
      ],
      "metadata": {
        "colab": {
          "base_uri": "https://localhost:8080/"
        },
        "id": "obuwblPkgV5n",
        "outputId": "89ea3127-c389-4eb4-cc9b-fe68b2365e41"
      },
      "execution_count": 11,
      "outputs": [
        {
          "output_type": "stream",
          "name": "stdout",
          "text": [
            "Total de alunos: 5\n"
          ]
        }
      ]
    },
    {
      "cell_type": "markdown",
      "source": [
        "**Atualização e Remoção da tabela alunos**"
      ],
      "metadata": {
        "id": "k3o8MUtlhI7Q"
      }
    },
    {
      "cell_type": "code",
      "source": [
        "# Atualize a idade de um aluno específico na tabela\n",
        "# 1º definindo o ID do aluno e a nova dade para qal será alterada.\n",
        "aluno_id = 2\n",
        "nova_idade = 56\n",
        "cursor.execute('UPDATE alunos SET idade = ? WHERE id = ?', (nova_idade, aluno_id))\n",
        "conexao.commit()\n"
      ],
      "metadata": {
        "id": "iEb66K7yhOlZ"
      },
      "execution_count": 12,
      "outputs": []
    },
    {
      "cell_type": "code",
      "source": [
        "# Verificar se foi feita a atualização\n",
        "cursor.execute('SELECT * FROM alunos WHERE id = ?', (aluno_id,))\n",
        "registro = cursor.fetchone()\n",
        "print(f'Id: {registro[0]}, Nome: {registro[1]}, Idade: {registro[2]}, Curso: {registro[3]}')"
      ],
      "metadata": {
        "colab": {
          "base_uri": "https://localhost:8080/"
        },
        "id": "AzEAdn8-lECm",
        "outputId": "bbf84c88-effa-4c28-9480-0bdb9f5dbd8c"
      },
      "execution_count": 13,
      "outputs": [
        {
          "output_type": "stream",
          "name": "stdout",
          "text": [
            "Id: 2, Nome: Renilda Anjos, Idade: 56, Curso: Administração\n"
          ]
        }
      ]
    },
    {
      "cell_type": "code",
      "source": [
        "# Remova um aluno pelo seu ID\n",
        "aluno_id = 4\n",
        "cursor.execute('DELETE FROM alunos WHERE id = ?', (aluno_id,))\n",
        "conexao.commit()"
      ],
      "metadata": {
        "id": "_HBca-bklvTn"
      },
      "execution_count": 14,
      "outputs": []
    },
    {
      "cell_type": "code",
      "source": [
        "# Verificar se o aluno foi removido\n",
        "# 1º Definir o ID do aluno a ser removido\n",
        "aluno_id = 4\n",
        "cursor.execute('SELECT * FROM alunos WHERE id = ?', (aluno_id,))\n",
        "registro = cursor.fetchone()\n",
        "if registro is None:\n",
        "    print(f'O aluno com ID {aluno_id} foi removido com sucesso.')\n",
        "else:\n",
        "    print(f'Erro: O aluno com ID {aluno_id} ainda está presente.')"
      ],
      "metadata": {
        "colab": {
          "base_uri": "https://localhost:8080/"
        },
        "id": "yWSasDhWmUnE",
        "outputId": "224c862d-4c8d-41c8-c2f8-ef72772752fb"
      },
      "execution_count": 15,
      "outputs": [
        {
          "output_type": "stream",
          "name": "stdout",
          "text": [
            "O aluno com ID 4 foi removido com sucesso.\n"
          ]
        }
      ]
    },
    {
      "cell_type": "markdown",
      "source": [
        "**Criando nova tabela e inserindo os respectivos registros**"
      ],
      "metadata": {
        "id": "JP_W6Y6BnMI8"
      }
    },
    {
      "cell_type": "code",
      "source": [
        "# Criando nova tabela chamada \"clientes\" com os campos: id (chaveprimária), nome (texto), idade (inteiro) e saldo (float).\n",
        "# Inserindo os respectivos registros na tabela.\n",
        "# No SQLite, o tipo de dado usado para números com ponto flutuante é REAL\n",
        "\n",
        "cursor.execute('CREATE TABLE clientes (id INTEGER PRIMARY KEY, nome TEXT, idade INTEGER, saldo REAL)')\n",
        "conexao.commit()"
      ],
      "metadata": {
        "id": "0l2bFtU2nPmX"
      },
      "execution_count": 16,
      "outputs": []
    },
    {
      "cell_type": "code",
      "source": [
        "# Verificando se a tabela clientes foi criada\n",
        "cursor.execute(\"SELECT name FROM sqlite_master WHERE type='table' AND name='clientes';\")\n",
        "result = cursor.fetchone()\n",
        "\n",
        "if result:\n",
        "    print(\"Tabela 'clientes' criada com sucesso!\")\n",
        "else:\n",
        "    print(\"Tabela 'clientes' não encontrada.\")"
      ],
      "metadata": {
        "colab": {
          "base_uri": "https://localhost:8080/"
        },
        "id": "x_V8sFqwneK9",
        "outputId": "16111d6d-b5f5-4ca9-d625-8ad2f2de1abd"
      },
      "execution_count": 17,
      "outputs": [
        {
          "output_type": "stream",
          "name": "stdout",
          "text": [
            "Tabela 'clientes' criada com sucesso!\n"
          ]
        }
      ]
    },
    {
      "cell_type": "code",
      "source": [
        "# Inserir 5 registros na tabela \"clientes\"\n",
        "cursor.execute('INSERT INTO clientes(id,nome,idade,saldo) VALUES(1,\" Beyonce Knowles\" , 43 ,  50000.00)')\n",
        "cursor.execute('INSERT INTO clientes(id,nome,idade,saldo) VALUES(2,\" Whitney Houston\" , 48 ,  40000.00)')\n",
        "cursor.execute('INSERT INTO clientes(id,nome,idade,saldo) VALUES(3,\" Britney Spears\" ,42 ,  30000.00)')\n",
        "cursor.execute('INSERT INTO clientes(id,nome,idade,saldo) VALUES(4,\" Tina Turner\" , 83 ,  20000.00)')\n",
        "cursor.execute('INSERT INTO clientes(id,nome,idade,saldo) VALUES(5,\" Rihanna Fenty\" , 36 ,  15000.00)')\n",
        "conexao.commit()\n"
      ],
      "metadata": {
        "id": "mOlM0ADFu4Y7"
      },
      "execution_count": 18,
      "outputs": []
    },
    {
      "cell_type": "markdown",
      "source": [
        "**Escrevendo consultas SQL para realizar as seguintes tarefas:**"
      ],
      "metadata": {
        "id": "G1MPFzK9zi7z"
      }
    },
    {
      "cell_type": "code",
      "source": [
        "# b) Selecionar o nome e a idade dos clientes com idade superior 30 anos\n",
        "cursor.execute('SELECT nome, idade FROM clientes WHERE idade > 30')\n",
        "registros = cursor.fetchall()\n",
        "for registro in registros:\n",
        "    print(f'Nome: {registro[0]}, Idade: {registro[1]}')"
      ],
      "metadata": {
        "colab": {
          "base_uri": "https://localhost:8080/"
        },
        "id": "M0VKyE0rzinF",
        "outputId": "8346dde3-6309-4b5a-9a8e-6d3739142f5e"
      },
      "execution_count": 19,
      "outputs": [
        {
          "output_type": "stream",
          "name": "stdout",
          "text": [
            "Nome:  Beyonce Knowles, Idade: 43\n",
            "Nome:  Whitney Houston, Idade: 48\n",
            "Nome:  Britney Spears, Idade: 42\n",
            "Nome:  Tina Turner, Idade: 83\n",
            "Nome:  Rihanna Fenty, Idade: 36\n"
          ]
        }
      ]
    },
    {
      "cell_type": "code",
      "source": [
        "# b) Calculando o saldo médio dos clientes\n",
        "# cursor.fetchone()[0]: Retorna o primeiro (e único) valor da consulta, que é a média dos saldos.\n",
        "\n",
        "cursor.execute('SELECT AVG(saldo) FROM clientes')\n",
        "saldo_medio = cursor.fetchone()[0]\n",
        "\n",
        "# Exibir o saldo médio\n",
        "print(f'O saldo médio dos clientes é: {saldo_medio:.2f}')  #  Exibe o saldo médio formatado com duas casas decimais"
      ],
      "metadata": {
        "colab": {
          "base_uri": "https://localhost:8080/"
        },
        "id": "2_wkj0aW0QaB",
        "outputId": "e12f62a6-86aa-43f9-a105-f6fd6736c1fd"
      },
      "execution_count": 20,
      "outputs": [
        {
          "output_type": "stream",
          "name": "stdout",
          "text": [
            "O saldo médio dos clientes é: 31000.00\n"
          ]
        }
      ]
    },
    {
      "cell_type": "code",
      "source": [
        "# c) Encontre o cliente com o saldo máximo\n",
        "\n",
        "cursor.execute('SELECT nome, saldo FROM clientes WHERE saldo = (SELECT MAX(saldo) FROM clientes)')\n",
        "cliente_max_saldo = cursor.fetchone()\n",
        "\n",
        "# Exibir o nome do cliente e o saldo máximo\n",
        "if cliente_max_saldo:\n",
        "    print(f'O cliente com o maior saldo é {cliente_max_saldo[0]} com um saldo de {cliente_max_saldo[1]:.2f}')\n",
        "else:\n",
        "    print('Nenhum cliente encontrado.')"
      ],
      "metadata": {
        "colab": {
          "base_uri": "https://localhost:8080/"
        },
        "id": "_pWkleMn0QR0",
        "outputId": "e422768f-6a5e-4054-b9c0-e76b53ba9895"
      },
      "execution_count": 21,
      "outputs": [
        {
          "output_type": "stream",
          "name": "stdout",
          "text": [
            "O cliente com o maior saldo é  Beyonce Knowles com um saldo de 50000.00\n"
          ]
        }
      ]
    },
    {
      "cell_type": "code",
      "source": [
        "# d) Conte quantos clientes têm saldo acima de 1000\n",
        "\n",
        "cursor.execute('SELECT COUNT(*) FROM clientes WHERE saldo > 1000')\n",
        "num_clientes_acima_1000 = cursor.fetchone()[0]\n",
        "\n",
        "# Exibir o número de clientes\n",
        "print(f'O número de clientes com saldo acima de 1000 é: {num_clientes_acima_1000}')\n"
      ],
      "metadata": {
        "colab": {
          "base_uri": "https://localhost:8080/"
        },
        "id": "yr-e_jhv0QG4",
        "outputId": "375dfdd9-006d-4168-b078-1c66bad8fbea"
      },
      "execution_count": 22,
      "outputs": [
        {
          "output_type": "stream",
          "name": "stdout",
          "text": [
            "O número de clientes com saldo acima de 1000 é: 5\n"
          ]
        }
      ]
    },
    {
      "cell_type": "markdown",
      "source": [
        "**Atualização e Remoção com Condições**\n"
      ],
      "metadata": {
        "id": "BlKSR6ip0YZ8"
      }
    },
    {
      "cell_type": "code",
      "source": [
        "# a) Atualize o saldo de um cliente específico\n",
        "# 1º Definir o nome do cliente e o novo saldo\n",
        "nome_cliente = \"Britney Spears\"\n",
        "novo_saldo = 35000.00\n",
        "\n",
        "# Atualizar o saldo do cliente específico\n",
        "cursor.execute('UPDATE clientes SET saldo = ? WHERE nome = ?', (novo_saldo, nome_cliente))\n",
        "conexao.commit()  # Confirmar as mudança\n"
      ],
      "metadata": {
        "id": "h79zQlJq0bJ-"
      },
      "execution_count": 23,
      "outputs": []
    },
    {
      "cell_type": "code",
      "source": [
        "# b) Remova um cliente pelo seu ID.\n",
        "# 1 # Definir o ID do cliente a ser removido\n",
        "\n",
        "cliente_id = 3\n",
        "cursor.execute('DELETE FROM alunos WHERE id = ?', (aluno_id,))\n",
        "conexao.commit()"
      ],
      "metadata": {
        "id": "e9lrsPcl0bkn"
      },
      "execution_count": 24,
      "outputs": []
    },
    {
      "cell_type": "code",
      "source": [
        "# Verificar se a remoção foi bem-sucedida\n",
        "\n",
        "cursor.execute('SELECT * FROM clientes WHERE id = ?', (cliente_id,))\n",
        "cliente_removido = cursor.fetchone()"
      ],
      "metadata": {
        "id": "DCSk1Pmw73d3"
      },
      "execution_count": 25,
      "outputs": []
    },
    {
      "cell_type": "markdown",
      "source": [
        "## Junção das Tabelas (compras e clientes)"
      ],
      "metadata": {
        "id": "9hhFj8lZ03_m"
      }
    },
    {
      "cell_type": "code",
      "source": [
        "# 1º >>> Crie uma segunda tabela chamada \"compras\" com os campos: id(chave primária), cliente_id (chave estrangeira referenciando o id da tabela \"clientes\"), produto (texto) e valor (real).\n",
        "# 2º >>> Insira algumas compras associadas a clientes existentes na tabela \"clientes\".\n",
        "# 3° >>>Escreva uma consulta para exibir o nome do cliente, o produto e ovalor de cada compra.\n",
        "\n",
        "cursor.execute('''\n",
        "CREATE TABLE compras (\n",
        "    id INTEGER PRIMARY KEY,\n",
        "    cliente_id INTEGER,\n",
        "    produto TEXT,\n",
        "    valor REAL,\n",
        "    FOREIGN KEY(cliente_id) REFERENCES clientes(id)\n",
        ")\n",
        "''')\n",
        "\n",
        "conexao.commit()\n"
      ],
      "metadata": {
        "id": "x-_WHW4a0bbL"
      },
      "execution_count": 26,
      "outputs": []
    },
    {
      "cell_type": "code",
      "source": [
        "# Inseririndo registros na tabela compras\n",
        "\n",
        "cursor.execute('INSERT INTO compras (cliente_id, produto, valor) VALUES (?, ?, ?)', (1, 'Laptop', 2500.00))\n",
        "cursor.execute('INSERT INTO compras (cliente_id, produto, valor) VALUES (?, ?, ?)', (2, 'Smartphone', 1200.00))\n",
        "cursor.execute('INSERT INTO compras (cliente_id, produto, valor) VALUES (?, ?, ?)', (3, 'Tablet', 800.00))\n",
        "cursor.execute('INSERT INTO compras (cliente_id, produto, valor) VALUES (?, ?, ?)', (4, 'Cadeira', 350.00))\n",
        "cursor.execute('INSERT INTO compras (cliente_id, produto, valor) VALUES (?, ?, ?)', (5, 'Teclado', 150.00))\n",
        "\n",
        "# Confirmar a inserção dos registros\n",
        "conexao.commit()\n"
      ],
      "metadata": {
        "id": "Ll7OWZK51H5h"
      },
      "execution_count": 27,
      "outputs": []
    },
    {
      "cell_type": "code",
      "source": [
        "# Escrevendo uma consulta para exibir o nome do cliente, o produto e o valor de cada compra\n",
        "\n",
        "cursor.execute('''\n",
        "SELECT clientes.nome, compras.produto, compras.valor\n",
        "FROM compras\n",
        "JOIN clientes ON compras.cliente_id = clientes.id\n",
        "''')\n",
        "\n",
        "# Obter e exibir os resultados\n",
        "resultados = cursor.fetchall()\n",
        "for resultado in resultados:\n",
        "    print(f'Cliente: {resultado[0]}, Produto: {resultado[1]}, Valor: {resultado[2]:.2f}')\n",
        "\n"
      ],
      "metadata": {
        "colab": {
          "base_uri": "https://localhost:8080/"
        },
        "id": "vo0VTDopAz2D",
        "outputId": "bc637c53-4b81-42f0-e9d3-7535305aa0ab"
      },
      "execution_count": 28,
      "outputs": [
        {
          "output_type": "stream",
          "name": "stdout",
          "text": [
            "Cliente:  Beyonce Knowles, Produto: Laptop, Valor: 2500.00\n",
            "Cliente:  Whitney Houston, Produto: Smartphone, Valor: 1200.00\n",
            "Cliente:  Britney Spears, Produto: Tablet, Valor: 800.00\n",
            "Cliente:  Tina Turner, Produto: Cadeira, Valor: 350.00\n",
            "Cliente:  Rihanna Fenty, Produto: Teclado, Valor: 150.00\n"
          ]
        }
      ]
    }
  ]
}